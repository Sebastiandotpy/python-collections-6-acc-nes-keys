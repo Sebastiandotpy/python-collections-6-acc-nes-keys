{
 "cells": [
  {
   "cell_type": "code",
   "execution_count": 3,
   "metadata": {},
   "outputs": [
    {
     "name": "stdout",
     "output_type": "stream",
     "text": [
      "History\n",
      "Mr. Hoover\n",
      "None\n"
     ]
    }
   ],
   "source": [
    "from typing import Any, Dict, List\n",
    "\n",
    "def get(data: Dict[str, Any], key: str) -> Any:\n",
    "    \"\"\"\n",
    "    Accesses a value in a nested dictionary using a key with levels seperated by dots.\n",
    "\n",
    "    Args:\n",
    "    data(dict): The dictionary to be accessed\n",
    "    key (str): The key to the value that needs to be accessed, with levels eperated by dots.\n",
    "\n",
    "    Returns:\n",
    "    The value if it exists, otherwise None.\n",
    "    \"\"\"\n",
    "\n",
    "    # Split the key into levels\n",
    "    levels = key.split('.')\n",
    "\n",
    "    # Traverse the nested dictionary using the levels\n",
    "    for level in levels:\n",
    "        if isinstance(data, list):\n",
    "            try:\n",
    "                index = int(level)\n",
    "                data = data[index]\n",
    "            except (ValueError, IndexError):\n",
    "                return None\n",
    "        elif isinstance(data, dict):\n",
    "            data = data.get(level)\n",
    "            if data is None:\n",
    "                return None\n",
    "        else:\n",
    "            return None\n",
    "\n",
    "    return data\n",
    "        \n",
    "# Testing the function\n",
    "data = {\n",
    "  'students': [\n",
    "    {\n",
    "      'name': 'Josephine',\n",
    "      'subjects': [\n",
    "        {\n",
    "          'name': 'English',\n",
    "          'teacher': 'Mr. Hoover'\n",
    "        }\n",
    "      ]\n",
    "    },\n",
    "    {\n",
    "      'name': 'Luke',\n",
    "      'subjects': [\n",
    "        {\n",
    "          'name': 'History',\n",
    "          'teacher': 'Mrs. Peters'\n",
    "        }\n",
    "      ]\n",
    "    },\n",
    "    {\n",
    "      'name': 'Julia',\n",
    "      'subjects': [\n",
    "        {\n",
    "          'name': 'Chemistry',\n",
    "          'teacher': 'Mrs. Fauci'\n",
    "        }\n",
    "      ]\n",
    "    }\n",
    "  ]\n",
    "} \n",
    "\n",
    "print(get(data, 'students.1.subjects.0.name'))  # Output: History\n",
    "print(get(data, 'students.0.subjects.0.teacher')) # Output: Mr. Hoover\n",
    "print(get(data, 'students.0.subjects.1.teacher')) # Output: None\n"
   ]
  }
 ],
 "metadata": {
  "kernelspec": {
   "display_name": "Python 3",
   "language": "python",
   "name": "python3"
  },
  "language_info": {
   "codemirror_mode": {
    "name": "ipython",
    "version": 3
   },
   "file_extension": ".py",
   "mimetype": "text/x-python",
   "name": "python",
   "nbconvert_exporter": "python",
   "pygments_lexer": "ipython3",
   "version": "3.11.3"
  },
  "orig_nbformat": 4
 },
 "nbformat": 4,
 "nbformat_minor": 2
}
